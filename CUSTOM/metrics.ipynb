{
 "cells": [
  {
   "cell_type": "markdown",
   "metadata": {},
   "source": [
    "# Comparing the predicted masks with the ground truth\n",
    "- Precision, Recall, Accuracy, Dice, IoU"
   ]
  },
  {
   "cell_type": "markdown",
   "metadata": {},
   "source": [
    "#### Importing libraries"
   ]
  },
  {
   "cell_type": "code",
   "execution_count": 1,
   "metadata": {},
   "outputs": [],
   "source": [
    "import numpy as np\n",
    "import pandas as pd"
   ]
  },
  {
   "cell_type": "code",
   "execution_count": 2,
   "metadata": {},
   "outputs": [],
   "source": [
    "import os\n",
    "import cv2"
   ]
  },
  {
   "cell_type": "markdown",
   "metadata": {},
   "source": [
    "#### Metrics functions"
   ]
  },
  {
   "cell_type": "code",
   "execution_count": 3,
   "metadata": {},
   "outputs": [],
   "source": [
    "# def recall_score_(groundtruth_mask, pred_mask):\n",
    "#     intersect = np.sum(pred_mask*groundtruth_mask)\n",
    "#     total_pixel_truth = np.sum(groundtruth_mask)\n",
    "#     recall = np.mean(intersect/total_pixel_truth)\n",
    "#     return round(recall, 3)\n",
    "\n",
    "# # def iou(groundtruth_mask, pred_mask):\n",
    "# #     intersect = np.sum(pred_mask*groundtruth_mask)\n",
    "# #     union = np.sum(pred_mask) + np.sum(groundtruth_mask) - intersect\n",
    "# #     iou = np.mean(intersect/union)\n",
    "# #     return round(iou, 3)\n",
    "\n",
    "# def iou(mask1, mask2):\n",
    "#     # Calculate intersection and union\n",
    "#     intersection = np.logical_and(mask1, mask2)\n",
    "#     union = np.logical_or(mask1, mask2)\n",
    "    \n",
    "#     # Compute IoU\n",
    "#     iou = np.sum(intersection) / np.sum(union)\n",
    "#     return iou\n",
    "\n",
    "# # def dice_coef(groundtruth_mask, pred_mask):\n",
    "# #     intersect = np.sum(pred_mask*groundtruth_mask)\n",
    "# #     total_sum = np.sum(pred_mask) + np.sum(groundtruth_mask)\n",
    "# #     dice = np.mean(2*intersect/total_sum)\n",
    "# #     return round(dice, 3) #round up to 3 decimal places\n",
    "\n",
    "# def dice_coef(mask1, mask2):\n",
    "#     # Calculate intersection\n",
    "#     intersection = np.logical_and(mask1, mask2)\n",
    "    \n",
    "#     # Compute Dice coefficient\n",
    "#     dice_coefficient = 2 * np.sum(intersection) / (np.sum(mask1) + np.sum(mask2))\n",
    "#     return round(dice_coefficient,3)\n",
    "\n",
    "# def accuracy(groundtruth_mask, pred_mask):\n",
    "#     intersect = np.sum(pred_mask*groundtruth_mask)\n",
    "#     union = np.sum(pred_mask) + np.sum(groundtruth_mask) - intersect\n",
    "#     xor = np.sum(groundtruth_mask==pred_mask)\n",
    "#     acc = np.mean(xor/(union + xor - intersect))\n",
    "#     return round(acc, 3)\n",
    "\n",
    "# def precision_score_(groundtruth_mask, pred_mask):\n",
    "#     intersect = np.sum(pred_mask*groundtruth_mask)\n",
    "#     total_pixel_pred = np.sum(pred_mask)\n",
    "#     precision = np.mean(intersect/total_pixel_pred)\n",
    "#     return round(precision, 3)"
   ]
  },
  {
   "cell_type": "code",
   "execution_count": 4,
   "metadata": {},
   "outputs": [],
   "source": [
    "def list_files_in_directory(directory):\n",
    "    file_list = []\n",
    "    for filename in os.listdir(directory):\n",
    "        if os.path.isfile(os.path.join(directory, filename)):\n",
    "            if filename.endswith('.jpg') or filename.endswith('.png'):\n",
    "                file_list.append(filename)\n",
    "    return file_list"
   ]
  },
  {
   "cell_type": "code",
   "execution_count": 5,
   "metadata": {},
   "outputs": [],
   "source": [
    "def calculate_metrics(mask1, mask2):\n",
    "    mask1 = np.array(mask1)\n",
    "    mask2 = np.array(mask2)\n",
    "    # Convert masks to boolean arrays\n",
    "    mask1_bool = mask1.astype(bool)\n",
    "    mask2_bool = mask2.astype(bool)\n",
    "    \n",
    "    # Intersection (AND operation)\n",
    "    intersection = np.logical_and(mask1_bool, mask2_bool)\n",
    "    \n",
    "    # Union (OR operation)\n",
    "    union = np.logical_or(mask1_bool, mask2_bool)\n",
    "    \n",
    "    # Calculate IoU (Jaccard Index)\n",
    "    iou = np.sum(intersection) / np.sum(union)\n",
    "    \n",
    "    # Calculate Dice coefficient\n",
    "    dice = 2 * np.sum(intersection) / (np.sum(mask1_bool) + np.sum(mask2_bool))\n",
    "    \n",
    "    # Calculate accuracy\n",
    "    accuracy = np.sum(intersection) / mask1.size\n",
    "    \n",
    "    # Calculate precision\n",
    "    precision = np.sum(intersection) / np.sum(mask1_bool)\n",
    "    \n",
    "    # Calculate recall\n",
    "    recall = np.sum(intersection) / np.sum(mask2_bool)\n",
    "    \n",
    "    return [precision,recall,accuracy,dice,iou]"
   ]
  },
  {
   "cell_type": "code",
   "execution_count": 6,
   "metadata": {},
   "outputs": [],
   "source": [
    "# def metrics_table(gt_masks, pred_masks):\n",
    "#     metrics = {'Precision':[],'Recall':[],'Accuracy':[],'Dice':[],'IoU':[]}\n",
    "#     for i, (mask, pred) in enumerate(zip(gt_masks, pred_masks)):\n",
    "#         metric_values = calculate_metrics(mask,pred)\n",
    "#         metrics['Precision'].append(metric_values[0])\n",
    "#         metrics['Recall'].append(metric_values[1])\n",
    "#         metrics['Accuracy'].append(metric_values[2])\n",
    "#         metrics['Dice'].append(metric_values[3])\n",
    "#         metrics['IoU'].append(metric_values[4])\n",
    "#     df = pd.DataFrame.from_dict(metrics)\n",
    "#     df.columns = ['Precision', 'Recall', 'Accuracy', 'Dice', 'IoU']\n",
    "#     return df"
   ]
  },
  {
   "cell_type": "code",
   "execution_count": 7,
   "metadata": {},
   "outputs": [],
   "source": [
    "def metrics_table(path_gt, path_pred, gt_masks):\n",
    "    metrics = {'Precision':[],'Recall':[],'Accuracy':[],'Dice':[],'IoU':[]}\n",
    "    for i, gt_mask in enumerate(gt_masks):\n",
    "        pred_img_path = os.path.join(path_pred,gt_mask.split(\".\")[0]+\"-mask.jpg\")\n",
    "        # print(pred_img_path)\n",
    "        pred = cv2.imread(pred_img_path,cv2.IMREAD_GRAYSCALE)\n",
    "        # print(len(pred))\n",
    "        mask_img_path = os.path.join(path_gt,gt_mask)\n",
    "        # print(mask_img_path)\n",
    "        mask = cv2.imread(mask_img_path,cv2.IMREAD_GRAYSCALE)\n",
    "        mask = cv2.resize(mask,(pred.shape[:2]))\n",
    "        metric_values = calculate_metrics(mask,pred)\n",
    "        metrics['Precision'].append(metric_values[0])\n",
    "        metrics['Recall'].append(metric_values[1])\n",
    "        metrics['Accuracy'].append(metric_values[2])\n",
    "        metrics['Dice'].append(metric_values[3])\n",
    "        metrics['IoU'].append(metric_values[4])\n",
    "    df = pd.DataFrame.from_dict(metrics)\n",
    "    df.columns = ['Precision', 'Recall', 'Accuracy', 'Dice', 'IoU']\n",
    "    return df"
   ]
  },
  {
   "cell_type": "code",
   "execution_count": 8,
   "metadata": {},
   "outputs": [],
   "source": [
    "def metrics_table_flip(path_gt, path_pred, gt_masks):\n",
    "    metrics = {'Precision':[],'Recall':[],'Accuracy':[],'Dice':[],'IoU':[]}\n",
    "    for i, gt_mask in enumerate(gt_masks):\n",
    "        pred_img_path = os.path.join(path_pred,gt_mask.split(\".\")[0]+\"-mask.jpg\")\n",
    "        pred = cv2.imread(pred_img_path,cv2.IMREAD_GRAYSCALE)\n",
    "        pred = cv2.flip(pred, 1)\n",
    "        mask_img_path = os.path.join(path_gt,gt_mask)\n",
    "        # print(mask_img_path)\n",
    "        mask = cv2.imread(mask_img_path,cv2.IMREAD_GRAYSCALE)\n",
    "        mask = cv2.resize(mask,(pred.shape[:2]))\n",
    "        metric_values = calculate_metrics(mask,pred)\n",
    "        metrics['Precision'].append(metric_values[0])\n",
    "        metrics['Recall'].append(metric_values[1])\n",
    "        metrics['Accuracy'].append(metric_values[2])\n",
    "        metrics['Dice'].append(metric_values[3])\n",
    "        metrics['IoU'].append(metric_values[4])\n",
    "    df = pd.DataFrame.from_dict(metrics)\n",
    "    df.columns = ['Precision', 'Recall', 'Accuracy', 'Dice', 'IoU']\n",
    "    return df"
   ]
  },
  {
   "cell_type": "markdown",
   "metadata": {},
   "source": [
    "#### Sample Testing with two masks"
   ]
  },
  {
   "cell_type": "code",
   "execution_count": 19,
   "metadata": {},
   "outputs": [],
   "source": [
    "import matplotlib.pyplot as plt"
   ]
  },
  {
   "cell_type": "code",
   "execution_count": 11,
   "metadata": {},
   "outputs": [],
   "source": [
    "import cv2"
   ]
  },
  {
   "cell_type": "code",
   "execution_count": 39,
   "metadata": {},
   "outputs": [],
   "source": [
    "pred_mask = cv2.imread('D:\\\\Study\\\\Conda Projects\\\\CCAM\\\\CUSTOM\\\\experiments\\\\images\\\\OXFORD_RN_IN\\\\train\\\\colormaps\\\\Abyssinian_1-mask.jpg',cv2.IMREAD_GRAYSCALE)"
   ]
  },
  {
   "cell_type": "code",
   "execution_count": 40,
   "metadata": {},
   "outputs": [],
   "source": [
    "gt_mask = cv2.imread(\"D:\\\\Study\\\\Conda Projects\\\\opdl\\\\Data\\\\masks\\\\Abyssinian_1.jpg\",cv2.IMREAD_GRAYSCALE)\n",
    "gt_mask = cv2.resize(gt_mask,(pred_mask.shape[:2]))"
   ]
  },
  {
   "cell_type": "code",
   "execution_count": 41,
   "metadata": {},
   "outputs": [
    {
     "data": {
      "image/png": "[encoded data removed]",
      "text/plain": [
       "<Figure size 640x480 with 1 Axes>"
      ]
     },
     "metadata": {},
     "output_type": "display_data"
    }
   ],
   "source": [
    "plt.imshow(pred_mask)\n",
    "plt.show()"
   ]
  },
  {
   "cell_type": "code",
   "execution_count": 42,
   "metadata": {},
   "outputs": [
    {
     "data": {
      "image/png": "[encoded data removed]",
      "text/plain": [
       "<Figure size 640x480 with 1 Axes>"
      ]
     },
     "metadata": {},
     "output_type": "display_data"
    }
   ],
   "source": [
    "plt.imshow(gt_mask)\n",
    "plt.show()"
   ]
  },
  {
   "cell_type": "code",
   "execution_count": 49,
   "metadata": {},
   "outputs": [
    {
     "data": {
      "text/html": [
       "<div>\n",
       "<style scoped>\n",
       "    .dataframe tbody tr th:only-of-type {\n",
       "        vertical-align: middle;\n",
       "    }\n",
       "\n",
       "    .dataframe tbody tr th {\n",
       "        vertical-align: top;\n",
       "    }\n",
       "\n",
       "    .dataframe thead th {\n",
       "        text-align: right;\n",
       "    }\n",
       "</style>\n",
       "<table border=\"1\" class=\"dataframe\">\n",
       "  <thead>\n",
       "    <tr style=\"text-align: right;\">\n",
       "      <th></th>\n",
       "      <th>Precision</th>\n",
       "      <th>Recall</th>\n",
       "      <th>Accuracy</th>\n",
       "      <th>Dice</th>\n",
       "      <th>IoU</th>\n",
       "    </tr>\n",
       "  </thead>\n",
       "  <tbody>\n",
       "    <tr>\n",
       "      <th>0</th>\n",
       "      <td>0.77606</td>\n",
       "      <td>0.632933</td>\n",
       "      <td>0.148079</td>\n",
       "      <td>0.697227</td>\n",
       "      <td>0.535187</td>\n",
       "    </tr>\n",
       "  </tbody>\n",
       "</table>\n",
       "</div>"
      ],
      "text/plain": [
       "   Precision    Recall  Accuracy      Dice       IoU\n",
       "0    0.77606  0.632933  0.148079  0.697227  0.535187"
      ]
     },
     "execution_count": 49,
     "metadata": {},
     "output_type": "execute_result"
    }
   ],
   "source": [
    "metrics_table([gt_mask], [pred_mask])"
   ]
  },
  {
   "cell_type": "markdown",
   "metadata": {},
   "source": [
    "#### Exp-1: OXFORD Resnet50 Imagenet CCAM"
   ]
  },
  {
   "cell_type": "markdown",
   "metadata": {},
   "source": [
    "Need to pass two lists of gt_masks and \n",
    "Should also provide the data_path for ground and data_path for prediction"
   ]
  },
  {
   "cell_type": "code",
   "execution_count": 7,
   "metadata": {},
   "outputs": [],
   "source": [
    "data_path_gt = \"D:\\\\Study\\\\Conda Projects\\\\opdl\\\\Data\\\\masks\"\n",
    "data_path_pred = \"D:\\\\Study\\\\Conda Projects\\\\CCAM\\\\CUSTOM\\\\experiments\\\\images\\\\OXFORD_RN_IN\\\\train\\\\colormaps\""
   ]
  },
  {
   "cell_type": "code",
   "execution_count": 9,
   "metadata": {},
   "outputs": [
    {
     "name": "stderr",
     "output_type": "stream",
     "text": [
      "C:\\Users\\anish\\AppData\\Local\\Temp\\ipykernel_15788\\3977446589.py:24: RuntimeWarning: invalid value encountered in scalar divide\n",
      "  precision = np.sum(intersection) / np.sum(mask1_bool)\n"
     ]
    }
   ],
   "source": [
    "df_metrics = metrics_table(data_path_gt, data_path_pred, list_files_in_directory(data_path_gt))"
   ]
  },
  {
   "cell_type": "code",
   "execution_count": 10,
   "metadata": {},
   "outputs": [
    {
     "data": {
      "text/html": [
       "<div>\n",
       "<style scoped>\n",
       "    .dataframe tbody tr th:only-of-type {\n",
       "        vertical-align: middle;\n",
       "    }\n",
       "\n",
       "    .dataframe tbody tr th {\n",
       "        vertical-align: top;\n",
       "    }\n",
       "\n",
       "    .dataframe thead th {\n",
       "        text-align: right;\n",
       "    }\n",
       "</style>\n",
       "<table border=\"1\" class=\"dataframe\">\n",
       "  <thead>\n",
       "    <tr style=\"text-align: right;\">\n",
       "      <th></th>\n",
       "      <th>Precision</th>\n",
       "      <th>Recall</th>\n",
       "      <th>Accuracy</th>\n",
       "      <th>Dice</th>\n",
       "      <th>IoU</th>\n",
       "    </tr>\n",
       "  </thead>\n",
       "  <tbody>\n",
       "    <tr>\n",
       "      <th>0</th>\n",
       "      <td>0.776060</td>\n",
       "      <td>0.632933</td>\n",
       "      <td>0.148079</td>\n",
       "      <td>0.697227</td>\n",
       "      <td>0.535187</td>\n",
       "    </tr>\n",
       "    <tr>\n",
       "      <th>1</th>\n",
       "      <td>0.593504</td>\n",
       "      <td>0.624396</td>\n",
       "      <td>0.172612</td>\n",
       "      <td>0.608558</td>\n",
       "      <td>0.437358</td>\n",
       "    </tr>\n",
       "    <tr>\n",
       "      <th>2</th>\n",
       "      <td>0.436219</td>\n",
       "      <td>0.916935</td>\n",
       "      <td>0.192941</td>\n",
       "      <td>0.591188</td>\n",
       "      <td>0.419636</td>\n",
       "    </tr>\n",
       "    <tr>\n",
       "      <th>3</th>\n",
       "      <td>0.527489</td>\n",
       "      <td>0.680201</td>\n",
       "      <td>0.166932</td>\n",
       "      <td>0.594190</td>\n",
       "      <td>0.422667</td>\n",
       "    </tr>\n",
       "    <tr>\n",
       "      <th>4</th>\n",
       "      <td>0.408436</td>\n",
       "      <td>0.935789</td>\n",
       "      <td>0.287548</td>\n",
       "      <td>0.568670</td>\n",
       "      <td>0.397301</td>\n",
       "    </tr>\n",
       "  </tbody>\n",
       "</table>\n",
       "</div>"
      ],
      "text/plain": [
       "   Precision    Recall  Accuracy      Dice       IoU\n",
       "0   0.776060  0.632933  0.148079  0.697227  0.535187\n",
       "1   0.593504  0.624396  0.172612  0.608558  0.437358\n",
       "2   0.436219  0.916935  0.192941  0.591188  0.419636\n",
       "3   0.527489  0.680201  0.166932  0.594190  0.422667\n",
       "4   0.408436  0.935789  0.287548  0.568670  0.397301"
      ]
     },
     "execution_count": 10,
     "metadata": {},
     "output_type": "execute_result"
    }
   ],
   "source": [
    "df_metrics.head()"
   ]
  },
  {
   "cell_type": "code",
   "execution_count": 11,
   "metadata": {},
   "outputs": [
    {
     "data": {
      "text/plain": [
       "7390"
      ]
     },
     "execution_count": 11,
     "metadata": {},
     "output_type": "execute_result"
    }
   ],
   "source": [
    "len(df_metrics)"
   ]
  },
  {
   "cell_type": "code",
   "execution_count": 21,
   "metadata": {},
   "outputs": [
    {
     "data": {
      "text/plain": [
       "Precision    0.537476\n",
       "Recall       0.782410\n",
       "Accuracy     0.226851\n",
       "Dice         0.619128\n",
       "IoU          0.463075\n",
       "dtype: float64"
      ]
     },
     "execution_count": 21,
     "metadata": {},
     "output_type": "execute_result"
    }
   ],
   "source": [
    "df_metrics.mean(axis=0)"
   ]
  },
  {
   "cell_type": "code",
   "execution_count": 13,
   "metadata": {},
   "outputs": [],
   "source": [
    "df_metrics.to_csv(\"D:\\Study\\Conda Projects\\CCAM\\CUSTOM\\experiments\\scores\\oxford_rn_in.csv\")"
   ]
  },
  {
   "cell_type": "markdown",
   "metadata": {},
   "source": [
    "#### Exp-2: POLYP Resnet50 Imagenet CCAM"
   ]
  },
  {
   "cell_type": "code",
   "execution_count": 15,
   "metadata": {},
   "outputs": [],
   "source": [
    "data_path_gt_pri = \"D:\\\\Study\\\\Conda Projects\\\\Polyp Detection\\\\Kvasir-SEG\\\\Ground Truth\"\n",
    "data_path_pred_pri = \"D:\\\\Study\\\\Conda Projects\\\\CCAM\\\\CUSTOM\\\\experiments\\\\images\\\\POLYP_RN_IN\\\\train\\\\colormaps\""
   ]
  },
  {
   "cell_type": "code",
   "execution_count": 16,
   "metadata": {},
   "outputs": [],
   "source": [
    "df_metrics_pri = metrics_table(data_path_gt_pri, data_path_pred_pri, list_files_in_directory(data_path_gt_pri))"
   ]
  },
  {
   "cell_type": "code",
   "execution_count": 17,
   "metadata": {},
   "outputs": [
    {
     "data": {
      "text/html": [
       "<div>\n",
       "<style scoped>\n",
       "    .dataframe tbody tr th:only-of-type {\n",
       "        vertical-align: middle;\n",
       "    }\n",
       "\n",
       "    .dataframe tbody tr th {\n",
       "        vertical-align: top;\n",
       "    }\n",
       "\n",
       "    .dataframe thead th {\n",
       "        text-align: right;\n",
       "    }\n",
       "</style>\n",
       "<table border=\"1\" class=\"dataframe\">\n",
       "  <thead>\n",
       "    <tr style=\"text-align: right;\">\n",
       "      <th></th>\n",
       "      <th>Precision</th>\n",
       "      <th>Recall</th>\n",
       "      <th>Accuracy</th>\n",
       "      <th>Dice</th>\n",
       "      <th>IoU</th>\n",
       "    </tr>\n",
       "  </thead>\n",
       "  <tbody>\n",
       "    <tr>\n",
       "      <th>0</th>\n",
       "      <td>0.025132</td>\n",
       "      <td>0.024226</td>\n",
       "      <td>0.007314</td>\n",
       "      <td>0.024671</td>\n",
       "      <td>0.012489</td>\n",
       "    </tr>\n",
       "    <tr>\n",
       "      <th>1</th>\n",
       "      <td>0.060263</td>\n",
       "      <td>0.036910</td>\n",
       "      <td>0.016542</td>\n",
       "      <td>0.045780</td>\n",
       "      <td>0.023426</td>\n",
       "    </tr>\n",
       "    <tr>\n",
       "      <th>2</th>\n",
       "      <td>0.069519</td>\n",
       "      <td>0.071682</td>\n",
       "      <td>0.022959</td>\n",
       "      <td>0.070584</td>\n",
       "      <td>0.036583</td>\n",
       "    </tr>\n",
       "    <tr>\n",
       "      <th>3</th>\n",
       "      <td>0.222609</td>\n",
       "      <td>0.061573</td>\n",
       "      <td>0.025470</td>\n",
       "      <td>0.096464</td>\n",
       "      <td>0.050676</td>\n",
       "    </tr>\n",
       "    <tr>\n",
       "      <th>4</th>\n",
       "      <td>0.000000</td>\n",
       "      <td>0.000000</td>\n",
       "      <td>0.000000</td>\n",
       "      <td>0.000000</td>\n",
       "      <td>0.000000</td>\n",
       "    </tr>\n",
       "  </tbody>\n",
       "</table>\n",
       "</div>"
      ],
      "text/plain": [
       "   Precision    Recall  Accuracy      Dice       IoU\n",
       "0   0.025132  0.024226  0.007314  0.024671  0.012489\n",
       "1   0.060263  0.036910  0.016542  0.045780  0.023426\n",
       "2   0.069519  0.071682  0.022959  0.070584  0.036583\n",
       "3   0.222609  0.061573  0.025470  0.096464  0.050676\n",
       "4   0.000000  0.000000  0.000000  0.000000  0.000000"
      ]
     },
     "execution_count": 17,
     "metadata": {},
     "output_type": "execute_result"
    }
   ],
   "source": [
    "df_metrics_pri.head()"
   ]
  },
  {
   "cell_type": "code",
   "execution_count": 20,
   "metadata": {},
   "outputs": [
    {
     "data": {
      "text/plain": [
       "Precision    0.122775\n",
       "Recall       0.053336\n",
       "Accuracy     0.023410\n",
       "Dice         0.064895\n",
       "IoU          0.036907\n",
       "dtype: float64"
      ]
     },
     "execution_count": 20,
     "metadata": {},
     "output_type": "execute_result"
    }
   ],
   "source": [
    "df_metrics_pri.mean(axis=0)"
   ]
  },
  {
   "cell_type": "code",
   "execution_count": 22,
   "metadata": {},
   "outputs": [],
   "source": [
    "df_metrics_pri.to_csv(\"D:\\Study\\Conda Projects\\CCAM\\CUSTOM\\experiments\\scores\\polyp_rn_in.csv\")"
   ]
  },
  {
   "cell_type": "markdown",
   "metadata": {},
   "source": [
    "#### Exp-3: Polyp(TrainingSet1k) Resnet50 GradCAM Metrics"
   ]
  },
  {
   "cell_type": "code",
   "execution_count": 19,
   "metadata": {},
   "outputs": [],
   "source": [
    "data_path_gt_prgc = \"D:\\\\Study\\\\Conda Projects\\\\Polyp Detection\\\\TrainingSet_NewGT\\\\masks_1k\"\n",
    "data_path_pred_prgc = \"D:\\\\Study\\\\Conda Projects\\\\opdl\\\\Data\\\\polyp\\\\resnet50_gradcam\""
   ]
  },
  {
   "cell_type": "code",
   "execution_count": 34,
   "metadata": {},
   "outputs": [
    {
     "name": "stderr",
     "output_type": "stream",
     "text": [
      "C:\\Users\\anish\\AppData\\Local\\Temp\\ipykernel_1260\\3977446589.py:24: RuntimeWarning: invalid value encountered in scalar divide\n",
      "  precision = np.sum(intersection) / np.sum(mask1_bool)\n",
      "C:\\Users\\anish\\AppData\\Local\\Temp\\ipykernel_1260\\3977446589.py:15: RuntimeWarning: invalid value encountered in scalar divide\n",
      "  iou = np.sum(intersection) / np.sum(union)\n",
      "C:\\Users\\anish\\AppData\\Local\\Temp\\ipykernel_1260\\3977446589.py:18: RuntimeWarning: invalid value encountered in scalar divide\n",
      "  dice = 2 * np.sum(intersection) / (np.sum(mask1_bool) + np.sum(mask2_bool))\n",
      "C:\\Users\\anish\\AppData\\Local\\Temp\\ipykernel_1260\\3977446589.py:27: RuntimeWarning: invalid value encountered in scalar divide\n",
      "  recall = np.sum(intersection) / np.sum(mask2_bool)\n"
     ]
    }
   ],
   "source": [
    "df_metrics_prgc = metrics_table(data_path_gt_prgc, data_path_pred_prgc, list_files_in_directory(data_path_gt_prgc))"
   ]
  },
  {
   "cell_type": "code",
   "execution_count": 35,
   "metadata": {},
   "outputs": [
    {
     "data": {
      "text/html": [
       "<div>\n",
       "<style scoped>\n",
       "    .dataframe tbody tr th:only-of-type {\n",
       "        vertical-align: middle;\n",
       "    }\n",
       "\n",
       "    .dataframe tbody tr th {\n",
       "        vertical-align: top;\n",
       "    }\n",
       "\n",
       "    .dataframe thead th {\n",
       "        text-align: right;\n",
       "    }\n",
       "</style>\n",
       "<table border=\"1\" class=\"dataframe\">\n",
       "  <thead>\n",
       "    <tr style=\"text-align: right;\">\n",
       "      <th></th>\n",
       "      <th>Precision</th>\n",
       "      <th>Recall</th>\n",
       "      <th>Accuracy</th>\n",
       "      <th>Dice</th>\n",
       "      <th>IoU</th>\n",
       "    </tr>\n",
       "  </thead>\n",
       "  <tbody>\n",
       "    <tr>\n",
       "      <th>0</th>\n",
       "      <td>NaN</td>\n",
       "      <td>0.0</td>\n",
       "      <td>0.0</td>\n",
       "      <td>0.0</td>\n",
       "      <td>0.0</td>\n",
       "    </tr>\n",
       "    <tr>\n",
       "      <th>1</th>\n",
       "      <td>NaN</td>\n",
       "      <td>0.0</td>\n",
       "      <td>0.0</td>\n",
       "      <td>0.0</td>\n",
       "      <td>0.0</td>\n",
       "    </tr>\n",
       "    <tr>\n",
       "      <th>2</th>\n",
       "      <td>NaN</td>\n",
       "      <td>0.0</td>\n",
       "      <td>0.0</td>\n",
       "      <td>0.0</td>\n",
       "      <td>0.0</td>\n",
       "    </tr>\n",
       "    <tr>\n",
       "      <th>3</th>\n",
       "      <td>NaN</td>\n",
       "      <td>NaN</td>\n",
       "      <td>0.0</td>\n",
       "      <td>NaN</td>\n",
       "      <td>NaN</td>\n",
       "    </tr>\n",
       "    <tr>\n",
       "      <th>4</th>\n",
       "      <td>NaN</td>\n",
       "      <td>NaN</td>\n",
       "      <td>0.0</td>\n",
       "      <td>NaN</td>\n",
       "      <td>NaN</td>\n",
       "    </tr>\n",
       "  </tbody>\n",
       "</table>\n",
       "</div>"
      ],
      "text/plain": [
       "   Precision  Recall  Accuracy  Dice  IoU\n",
       "0        NaN     0.0       0.0   0.0  0.0\n",
       "1        NaN     0.0       0.0   0.0  0.0\n",
       "2        NaN     0.0       0.0   0.0  0.0\n",
       "3        NaN     NaN       0.0   NaN  NaN\n",
       "4        NaN     NaN       0.0   NaN  NaN"
      ]
     },
     "execution_count": 35,
     "metadata": {},
     "output_type": "execute_result"
    }
   ],
   "source": [
    "df_metrics_prgc.head()"
   ]
  },
  {
   "cell_type": "code",
   "execution_count": 36,
   "metadata": {},
   "outputs": [
    {
     "data": {
      "text/plain": [
       "Precision    0.0\n",
       "Recall       0.0\n",
       "Accuracy     0.0\n",
       "Dice         0.0\n",
       "IoU          0.0\n",
       "dtype: float64"
      ]
     },
     "execution_count": 36,
     "metadata": {},
     "output_type": "execute_result"
    }
   ],
   "source": [
    "df_metrics_prgc.mean(axis=0)"
   ]
  },
  {
   "cell_type": "code",
   "execution_count": 37,
   "metadata": {},
   "outputs": [],
   "source": [
    "df_metrics_prgc.to_csv(\"D:\\Study\\Conda Projects\\CCAM\\CUSTOM\\experiments\\scores\\polyp_rn_in_gc.csv\")"
   ]
  },
  {
   "cell_type": "markdown",
   "metadata": {},
   "source": [
    "#### Exp-3b: Polyp Resnet50 GradCAM Metrics"
   ]
  },
  {
   "cell_type": "code",
   "execution_count": 38,
   "metadata": {},
   "outputs": [],
   "source": [
    "data_path_gt_pkrgc = \"D:\\\\Study\\\\Conda Projects\\\\Polyp Detection\\\\Kvasir-SEG\\\\Ground Truth\"\n",
    "data_path_pred_pkrgc = \"D:\\\\Study\\\\Conda Projects\\\\opdl\\\\Data\\\\polyp\\\\resnet50_gradcam_kvasir\""
   ]
  },
  {
   "cell_type": "code",
   "execution_count": 39,
   "metadata": {},
   "outputs": [
    {
     "name": "stderr",
     "output_type": "stream",
     "text": [
      "C:\\Users\\anish\\AppData\\Local\\Temp\\ipykernel_1260\\3977446589.py:27: RuntimeWarning: invalid value encountered in scalar divide\n",
      "  recall = np.sum(intersection) / np.sum(mask2_bool)\n"
     ]
    }
   ],
   "source": [
    "df_metrics_pkrgc = metrics_table(data_path_gt_pkrgc, data_path_pred_pkrgc, list_files_in_directory(data_path_gt_pkrgc))"
   ]
  },
  {
   "cell_type": "code",
   "execution_count": 40,
   "metadata": {},
   "outputs": [
    {
     "data": {
      "text/html": [
       "<div>\n",
       "<style scoped>\n",
       "    .dataframe tbody tr th:only-of-type {\n",
       "        vertical-align: middle;\n",
       "    }\n",
       "\n",
       "    .dataframe tbody tr th {\n",
       "        vertical-align: top;\n",
       "    }\n",
       "\n",
       "    .dataframe thead th {\n",
       "        text-align: right;\n",
       "    }\n",
       "</style>\n",
       "<table border=\"1\" class=\"dataframe\">\n",
       "  <thead>\n",
       "    <tr style=\"text-align: right;\">\n",
       "      <th></th>\n",
       "      <th>Precision</th>\n",
       "      <th>Recall</th>\n",
       "      <th>Accuracy</th>\n",
       "      <th>Dice</th>\n",
       "      <th>IoU</th>\n",
       "    </tr>\n",
       "  </thead>\n",
       "  <tbody>\n",
       "    <tr>\n",
       "      <th>0</th>\n",
       "      <td>0.000000</td>\n",
       "      <td>0.000000</td>\n",
       "      <td>0.000000</td>\n",
       "      <td>0.000000</td>\n",
       "      <td>0.000000</td>\n",
       "    </tr>\n",
       "    <tr>\n",
       "      <th>1</th>\n",
       "      <td>0.000000</td>\n",
       "      <td>0.000000</td>\n",
       "      <td>0.000000</td>\n",
       "      <td>0.000000</td>\n",
       "      <td>0.000000</td>\n",
       "    </tr>\n",
       "    <tr>\n",
       "      <th>2</th>\n",
       "      <td>0.009897</td>\n",
       "      <td>0.082536</td>\n",
       "      <td>0.003268</td>\n",
       "      <td>0.017674</td>\n",
       "      <td>0.008916</td>\n",
       "    </tr>\n",
       "    <tr>\n",
       "      <th>3</th>\n",
       "      <td>0.712419</td>\n",
       "      <td>0.263735</td>\n",
       "      <td>0.081513</td>\n",
       "      <td>0.384959</td>\n",
       "      <td>0.238359</td>\n",
       "    </tr>\n",
       "    <tr>\n",
       "      <th>4</th>\n",
       "      <td>0.000000</td>\n",
       "      <td>0.000000</td>\n",
       "      <td>0.000000</td>\n",
       "      <td>0.000000</td>\n",
       "      <td>0.000000</td>\n",
       "    </tr>\n",
       "  </tbody>\n",
       "</table>\n",
       "</div>"
      ],
      "text/plain": [
       "   Precision    Recall  Accuracy      Dice       IoU\n",
       "0   0.000000  0.000000  0.000000  0.000000  0.000000\n",
       "1   0.000000  0.000000  0.000000  0.000000  0.000000\n",
       "2   0.009897  0.082536  0.003268  0.017674  0.008916\n",
       "3   0.712419  0.263735  0.081513  0.384959  0.238359\n",
       "4   0.000000  0.000000  0.000000  0.000000  0.000000"
      ]
     },
     "execution_count": 40,
     "metadata": {},
     "output_type": "execute_result"
    }
   ],
   "source": [
    "df_metrics_pkrgc.head()"
   ]
  },
  {
   "cell_type": "code",
   "execution_count": 42,
   "metadata": {},
   "outputs": [
    {
     "data": {
      "text/plain": [
       "Precision    0.027568\n",
       "Recall       0.050976\n",
       "Accuracy     0.003595\n",
       "Dice         0.025120\n",
       "IoU          0.014639\n",
       "dtype: float64"
      ]
     },
     "execution_count": 42,
     "metadata": {},
     "output_type": "execute_result"
    }
   ],
   "source": [
    "df_metrics_pkrgc.mean(axis=0)"
   ]
  },
  {
   "cell_type": "code",
   "execution_count": 43,
   "metadata": {},
   "outputs": [],
   "source": [
    "df_metrics_prgc.to_csv(\"D:\\Study\\Conda Projects\\CCAM\\CUSTOM\\experiments\\scores\\polyp_kvasir_rn_in_gc.csv\")"
   ]
  },
  {
   "cell_type": "markdown",
   "metadata": {},
   "source": [
    "#### Exp-4: Oxford Resenet50 GradCAM"
   ]
  },
  {
   "cell_type": "code",
   "execution_count": 44,
   "metadata": {},
   "outputs": [],
   "source": [
    "data_path_gt_oxfrgc = \"D:\\\\Study\\\\Conda Projects\\\\opdl\\\\Data\\\\images\\\\images\"\n",
    "data_path_pred_oxfrgc = \"D:\\\\Study\\\\Conda Projects\\\\opdl\\\\Data\\\\oxford\\\\resnet50_gradcam\""
   ]
  },
  {
   "cell_type": "code",
   "execution_count": 53,
   "metadata": {},
   "outputs": [
    {
     "name": "stderr",
     "output_type": "stream",
     "text": [
      "C:\\Users\\anish\\AppData\\Local\\Temp\\ipykernel_1260\\3977446589.py:27: RuntimeWarning: invalid value encountered in scalar divide\n",
      "  recall = np.sum(intersection) / np.sum(mask2_bool)\n"
     ]
    }
   ],
   "source": [
    "df_metrics_oxfrgc = metrics_table(data_path_gt_oxfrgc, data_path_pred_oxfrgc, list_files_in_directory(data_path_gt_oxfrgc))"
   ]
  },
  {
   "cell_type": "code",
   "execution_count": 54,
   "metadata": {},
   "outputs": [
    {
     "data": {
      "text/html": [
       "<div>\n",
       "<style scoped>\n",
       "    .dataframe tbody tr th:only-of-type {\n",
       "        vertical-align: middle;\n",
       "    }\n",
       "\n",
       "    .dataframe tbody tr th {\n",
       "        vertical-align: top;\n",
       "    }\n",
       "\n",
       "    .dataframe thead th {\n",
       "        text-align: right;\n",
       "    }\n",
       "</style>\n",
       "<table border=\"1\" class=\"dataframe\">\n",
       "  <thead>\n",
       "    <tr style=\"text-align: right;\">\n",
       "      <th></th>\n",
       "      <th>Precision</th>\n",
       "      <th>Recall</th>\n",
       "      <th>Accuracy</th>\n",
       "      <th>Dice</th>\n",
       "      <th>IoU</th>\n",
       "    </tr>\n",
       "  </thead>\n",
       "  <tbody>\n",
       "    <tr>\n",
       "      <th>0</th>\n",
       "      <td>0.053533</td>\n",
       "      <td>1.0</td>\n",
       "      <td>0.053532</td>\n",
       "      <td>0.101625</td>\n",
       "      <td>0.053533</td>\n",
       "    </tr>\n",
       "    <tr>\n",
       "      <th>1</th>\n",
       "      <td>0.023315</td>\n",
       "      <td>1.0</td>\n",
       "      <td>0.023079</td>\n",
       "      <td>0.045567</td>\n",
       "      <td>0.023315</td>\n",
       "    </tr>\n",
       "    <tr>\n",
       "      <th>2</th>\n",
       "      <td>0.031967</td>\n",
       "      <td>1.0</td>\n",
       "      <td>0.031967</td>\n",
       "      <td>0.061954</td>\n",
       "      <td>0.031967</td>\n",
       "    </tr>\n",
       "    <tr>\n",
       "      <th>3</th>\n",
       "      <td>0.067901</td>\n",
       "      <td>1.0</td>\n",
       "      <td>0.067901</td>\n",
       "      <td>0.127167</td>\n",
       "      <td>0.067901</td>\n",
       "    </tr>\n",
       "    <tr>\n",
       "      <th>4</th>\n",
       "      <td>0.034160</td>\n",
       "      <td>1.0</td>\n",
       "      <td>0.034160</td>\n",
       "      <td>0.066063</td>\n",
       "      <td>0.034160</td>\n",
       "    </tr>\n",
       "  </tbody>\n",
       "</table>\n",
       "</div>"
      ],
      "text/plain": [
       "   Precision  Recall  Accuracy      Dice       IoU\n",
       "0   0.053533     1.0  0.053532  0.101625  0.053533\n",
       "1   0.023315     1.0  0.023079  0.045567  0.023315\n",
       "2   0.031967     1.0  0.031967  0.061954  0.031967\n",
       "3   0.067901     1.0  0.067901  0.127167  0.067901\n",
       "4   0.034160     1.0  0.034160  0.066063  0.034160"
      ]
     },
     "execution_count": 54,
     "metadata": {},
     "output_type": "execute_result"
    }
   ],
   "source": [
    "df_metrics_oxfrgc.head()"
   ]
  },
  {
   "cell_type": "code",
   "execution_count": 55,
   "metadata": {},
   "outputs": [
    {
     "data": {
      "text/plain": [
       "Precision    0.188861\n",
       "Recall       0.996200\n",
       "Accuracy     0.188198\n",
       "Dice         0.297856\n",
       "IoU          0.188766\n",
       "dtype: float64"
      ]
     },
     "execution_count": 55,
     "metadata": {},
     "output_type": "execute_result"
    }
   ],
   "source": [
    "df_metrics_oxfrgc.mean(axis=0)"
   ]
  },
  {
   "cell_type": "code",
   "execution_count": 56,
   "metadata": {},
   "outputs": [],
   "source": [
    "df_metrics_prgc.to_csv(\"D:\\Study\\Conda Projects\\CCAM\\CUSTOM\\experiments\\scores\\oxford_rn_in_gc.csv\")"
   ]
  },
  {
   "cell_type": "markdown",
   "metadata": {},
   "source": [
    "#### Exp-5: Oxford Resnet50(Pretrained) CCAM"
   ]
  },
  {
   "cell_type": "code",
   "execution_count": 9,
   "metadata": {},
   "outputs": [],
   "source": [
    "data_path_gt_oxfrpcc = \"D:\\\\Study\\\\Conda Projects\\\\opdl\\\\Data\\\\masks\"\n",
    "data_path_pred_oxfrpcc = \"D:\\\\Study\\\\Conda Projects\\\\CCAM\\\\CUSTOM\\\\experiments\\\\images\\\\OXFORD_RN_PRE\\\\train\\\\colormaps\""
   ]
  },
  {
   "cell_type": "code",
   "execution_count": 10,
   "metadata": {},
   "outputs": [
    {
     "name": "stderr",
     "output_type": "stream",
     "text": [
      "C:\\Users\\anish\\AppData\\Local\\Temp\\ipykernel_17132\\3977446589.py:24: RuntimeWarning: invalid value encountered in scalar divide\n",
      "  precision = np.sum(intersection) / np.sum(mask1_bool)\n"
     ]
    }
   ],
   "source": [
    "df_metrics_oxfrpcc = metrics_table(data_path_gt_oxfrpcc, data_path_pred_oxfrpcc, list_files_in_directory(data_path_gt_oxfrpcc))"
   ]
  },
  {
   "cell_type": "code",
   "execution_count": 11,
   "metadata": {},
   "outputs": [
    {
     "data": {
      "text/html": [
       "<div>\n",
       "<style scoped>\n",
       "    .dataframe tbody tr th:only-of-type {\n",
       "        vertical-align: middle;\n",
       "    }\n",
       "\n",
       "    .dataframe tbody tr th {\n",
       "        vertical-align: top;\n",
       "    }\n",
       "\n",
       "    .dataframe thead th {\n",
       "        text-align: right;\n",
       "    }\n",
       "</style>\n",
       "<table border=\"1\" class=\"dataframe\">\n",
       "  <thead>\n",
       "    <tr style=\"text-align: right;\">\n",
       "      <th></th>\n",
       "      <th>Precision</th>\n",
       "      <th>Recall</th>\n",
       "      <th>Accuracy</th>\n",
       "      <th>Dice</th>\n",
       "      <th>IoU</th>\n",
       "    </tr>\n",
       "  </thead>\n",
       "  <tbody>\n",
       "    <tr>\n",
       "      <th>0</th>\n",
       "      <td>0.524650</td>\n",
       "      <td>0.518637</td>\n",
       "      <td>0.100108</td>\n",
       "      <td>0.521626</td>\n",
       "      <td>0.352838</td>\n",
       "    </tr>\n",
       "    <tr>\n",
       "      <th>1</th>\n",
       "      <td>0.649695</td>\n",
       "      <td>0.862301</td>\n",
       "      <td>0.188955</td>\n",
       "      <td>0.741050</td>\n",
       "      <td>0.588626</td>\n",
       "    </tr>\n",
       "    <tr>\n",
       "      <th>2</th>\n",
       "      <td>0.409994</td>\n",
       "      <td>0.865253</td>\n",
       "      <td>0.181342</td>\n",
       "      <td>0.556361</td>\n",
       "      <td>0.385388</td>\n",
       "    </tr>\n",
       "    <tr>\n",
       "      <th>3</th>\n",
       "      <td>0.764784</td>\n",
       "      <td>0.847098</td>\n",
       "      <td>0.242028</td>\n",
       "      <td>0.803839</td>\n",
       "      <td>0.672016</td>\n",
       "    </tr>\n",
       "    <tr>\n",
       "      <th>4</th>\n",
       "      <td>0.407134</td>\n",
       "      <td>0.942464</td>\n",
       "      <td>0.286631</td>\n",
       "      <td>0.568627</td>\n",
       "      <td>0.397260</td>\n",
       "    </tr>\n",
       "  </tbody>\n",
       "</table>\n",
       "</div>"
      ],
      "text/plain": [
       "   Precision    Recall  Accuracy      Dice       IoU\n",
       "0   0.524650  0.518637  0.100108  0.521626  0.352838\n",
       "1   0.649695  0.862301  0.188955  0.741050  0.588626\n",
       "2   0.409994  0.865253  0.181342  0.556361  0.385388\n",
       "3   0.764784  0.847098  0.242028  0.803839  0.672016\n",
       "4   0.407134  0.942464  0.286631  0.568627  0.397260"
      ]
     },
     "execution_count": 11,
     "metadata": {},
     "output_type": "execute_result"
    }
   ],
   "source": [
    "df_metrics_oxfrpcc.head()"
   ]
  },
  {
   "cell_type": "code",
   "execution_count": 12,
   "metadata": {},
   "outputs": [
    {
     "data": {
      "text/plain": [
       "Precision    0.462962\n",
       "Recall       0.765522\n",
       "Accuracy     0.194678\n",
       "Dice         0.556605\n",
       "IoU          0.399418\n",
       "dtype: float64"
      ]
     },
     "execution_count": 12,
     "metadata": {},
     "output_type": "execute_result"
    }
   ],
   "source": [
    "df_metrics_oxfrpcc.mean(axis=0)"
   ]
  },
  {
   "cell_type": "code",
   "execution_count": 13,
   "metadata": {},
   "outputs": [],
   "source": [
    "df_metrics_oxfrpcc.to_csv(\"D:\\Study\\Conda Projects\\CCAM\\CUSTOM\\experiments\\scores\\oxford_rn_pre_cc.csv\")"
   ]
  },
  {
   "cell_type": "markdown",
   "metadata": {},
   "source": [
    "#### Exp-6: Oxford Resnet50 HiResCAM"
   ]
  },
  {
   "cell_type": "code",
   "execution_count": 1,
   "metadata": {},
   "outputs": [],
   "source": [
    "data_path_gt_oxfrhi = \"D:\\\\Study\\\\Conda Projects\\\\opdl\\\\Data\\\\masks\"\n",
    "data_path_pred_oxfrhi = \"D:\\\\Study\\\\Conda Projects\\\\opdl\\\\Data\\\\oxford\\\\resnet50_hirescam\""
   ]
  },
  {
   "cell_type": "code",
   "execution_count": 10,
   "metadata": {},
   "outputs": [
    {
     "name": "stderr",
     "output_type": "stream",
     "text": [
      "C:\\Users\\anish\\AppData\\Local\\Temp\\ipykernel_27692\\3977446589.py:27: RuntimeWarning: invalid value encountered in scalar divide\n",
      "  recall = np.sum(intersection) / np.sum(mask2_bool)\n",
      "C:\\Users\\anish\\AppData\\Local\\Temp\\ipykernel_27692\\3977446589.py:24: RuntimeWarning: invalid value encountered in scalar divide\n",
      "  precision = np.sum(intersection) / np.sum(mask1_bool)\n",
      "C:\\Users\\anish\\AppData\\Local\\Temp\\ipykernel_27692\\3977446589.py:15: RuntimeWarning: invalid value encountered in scalar divide\n",
      "  iou = np.sum(intersection) / np.sum(union)\n",
      "C:\\Users\\anish\\AppData\\Local\\Temp\\ipykernel_27692\\3977446589.py:18: RuntimeWarning: invalid value encountered in scalar divide\n",
      "  dice = 2 * np.sum(intersection) / (np.sum(mask1_bool) + np.sum(mask2_bool))\n"
     ]
    }
   ],
   "source": [
    "df_metrics_oxfrhi = metrics_table(data_path_gt_oxfrhi, data_path_pred_oxfrhi, list_files_in_directory(data_path_gt_oxfrhi))"
   ]
  },
  {
   "cell_type": "code",
   "execution_count": 11,
   "metadata": {},
   "outputs": [
    {
     "data": {
      "text/html": [
       "<div>\n",
       "<style scoped>\n",
       "    .dataframe tbody tr th:only-of-type {\n",
       "        vertical-align: middle;\n",
       "    }\n",
       "\n",
       "    .dataframe tbody tr th {\n",
       "        vertical-align: top;\n",
       "    }\n",
       "\n",
       "    .dataframe thead th {\n",
       "        text-align: right;\n",
       "    }\n",
       "</style>\n",
       "<table border=\"1\" class=\"dataframe\">\n",
       "  <thead>\n",
       "    <tr style=\"text-align: right;\">\n",
       "      <th></th>\n",
       "      <th>Precision</th>\n",
       "      <th>Recall</th>\n",
       "      <th>Accuracy</th>\n",
       "      <th>Dice</th>\n",
       "      <th>IoU</th>\n",
       "    </tr>\n",
       "  </thead>\n",
       "  <tbody>\n",
       "    <tr>\n",
       "      <th>0</th>\n",
       "      <td>0.000000</td>\n",
       "      <td>0.000000</td>\n",
       "      <td>0.000000</td>\n",
       "      <td>0.000000</td>\n",
       "      <td>0.000000</td>\n",
       "    </tr>\n",
       "    <tr>\n",
       "      <th>1</th>\n",
       "      <td>0.000000</td>\n",
       "      <td>0.000000</td>\n",
       "      <td>0.000000</td>\n",
       "      <td>0.000000</td>\n",
       "      <td>0.000000</td>\n",
       "    </tr>\n",
       "    <tr>\n",
       "      <th>2</th>\n",
       "      <td>0.016492</td>\n",
       "      <td>0.228180</td>\n",
       "      <td>0.007294</td>\n",
       "      <td>0.030760</td>\n",
       "      <td>0.015620</td>\n",
       "    </tr>\n",
       "    <tr>\n",
       "      <th>3</th>\n",
       "      <td>0.091190</td>\n",
       "      <td>0.425007</td>\n",
       "      <td>0.028858</td>\n",
       "      <td>0.150161</td>\n",
       "      <td>0.081175</td>\n",
       "    </tr>\n",
       "    <tr>\n",
       "      <th>4</th>\n",
       "      <td>0.001897</td>\n",
       "      <td>0.039090</td>\n",
       "      <td>0.001335</td>\n",
       "      <td>0.003618</td>\n",
       "      <td>0.001812</td>\n",
       "    </tr>\n",
       "  </tbody>\n",
       "</table>\n",
       "</div>"
      ],
      "text/plain": [
       "   Precision    Recall  Accuracy      Dice       IoU\n",
       "0   0.000000  0.000000  0.000000  0.000000  0.000000\n",
       "1   0.000000  0.000000  0.000000  0.000000  0.000000\n",
       "2   0.016492  0.228180  0.007294  0.030760  0.015620\n",
       "3   0.091190  0.425007  0.028858  0.150161  0.081175\n",
       "4   0.001897  0.039090  0.001335  0.003618  0.001812"
      ]
     },
     "execution_count": 11,
     "metadata": {},
     "output_type": "execute_result"
    }
   ],
   "source": [
    "df_metrics_oxfrhi.head()"
   ]
  },
  {
   "cell_type": "code",
   "execution_count": 12,
   "metadata": {},
   "outputs": [
    {
     "data": {
      "text/plain": [
       "Precision    0.359207\n",
       "Recall       0.631444\n",
       "Accuracy     0.142233\n",
       "Dice         0.409702\n",
       "IoU          0.297034\n",
       "dtype: float64"
      ]
     },
     "execution_count": 12,
     "metadata": {},
     "output_type": "execute_result"
    }
   ],
   "source": [
    "df_metrics_oxfrhi.mean(axis=0)"
   ]
  },
  {
   "cell_type": "code",
   "execution_count": 13,
   "metadata": {},
   "outputs": [],
   "source": [
    "df_metrics_oxfrhi.to_csv(\"D:\\Study\\Conda Projects\\CCAM\\CUSTOM\\experiments\\scores\\oxford_rn_hirescam.csv\")"
   ]
  },
  {
   "cell_type": "markdown",
   "metadata": {},
   "source": [
    "#### Exp-7: Oxford Resnet50 FullGrad (10 hrs)"
   ]
  },
  {
   "cell_type": "code",
   "execution_count": 14,
   "metadata": {},
   "outputs": [],
   "source": [
    "data_path_gt_oxfrfg = \"D:\\\\Study\\\\Conda Projects\\\\opdl\\\\Data\\\\masks\"\n",
    "data_path_pred_oxfrfg = \"D:\\\\Study\\\\Conda Projects\\\\opdl\\\\Data\\\\oxford\\\\resnet50_fullgrad\""
   ]
  },
  {
   "cell_type": "code",
   "execution_count": 15,
   "metadata": {},
   "outputs": [
    {
     "name": "stderr",
     "output_type": "stream",
     "text": [
      "C:\\Users\\anish\\AppData\\Local\\Temp\\ipykernel_27692\\3977446589.py:24: RuntimeWarning: invalid value encountered in scalar divide\n",
      "  precision = np.sum(intersection) / np.sum(mask1_bool)\n"
     ]
    }
   ],
   "source": [
    "df_metrics_oxfrfg = metrics_table(data_path_gt_oxfrfg, data_path_pred_oxfrfg, list_files_in_directory(data_path_gt_oxfrfg))"
   ]
  },
  {
   "cell_type": "code",
   "execution_count": 16,
   "metadata": {},
   "outputs": [
    {
     "data": {
      "text/html": [
       "<div>\n",
       "<style scoped>\n",
       "    .dataframe tbody tr th:only-of-type {\n",
       "        vertical-align: middle;\n",
       "    }\n",
       "\n",
       "    .dataframe tbody tr th {\n",
       "        vertical-align: top;\n",
       "    }\n",
       "\n",
       "    .dataframe thead th {\n",
       "        text-align: right;\n",
       "    }\n",
       "</style>\n",
       "<table border=\"1\" class=\"dataframe\">\n",
       "  <thead>\n",
       "    <tr style=\"text-align: right;\">\n",
       "      <th></th>\n",
       "      <th>Precision</th>\n",
       "      <th>Recall</th>\n",
       "      <th>Accuracy</th>\n",
       "      <th>Dice</th>\n",
       "      <th>IoU</th>\n",
       "    </tr>\n",
       "  </thead>\n",
       "  <tbody>\n",
       "    <tr>\n",
       "      <th>0</th>\n",
       "      <td>0.362231</td>\n",
       "      <td>0.544427</td>\n",
       "      <td>0.069117</td>\n",
       "      <td>0.435023</td>\n",
       "      <td>0.277974</td>\n",
       "    </tr>\n",
       "    <tr>\n",
       "      <th>1</th>\n",
       "      <td>0.588570</td>\n",
       "      <td>0.871537</td>\n",
       "      <td>0.171177</td>\n",
       "      <td>0.702634</td>\n",
       "      <td>0.541585</td>\n",
       "    </tr>\n",
       "    <tr>\n",
       "      <th>2</th>\n",
       "      <td>0.424143</td>\n",
       "      <td>0.913440</td>\n",
       "      <td>0.187600</td>\n",
       "      <td>0.579297</td>\n",
       "      <td>0.407754</td>\n",
       "    </tr>\n",
       "    <tr>\n",
       "      <th>3</th>\n",
       "      <td>0.706594</td>\n",
       "      <td>0.815585</td>\n",
       "      <td>0.223613</td>\n",
       "      <td>0.757187</td>\n",
       "      <td>0.609253</td>\n",
       "    </tr>\n",
       "    <tr>\n",
       "      <th>4</th>\n",
       "      <td>0.405350</td>\n",
       "      <td>0.992033</td>\n",
       "      <td>0.285375</td>\n",
       "      <td>0.575534</td>\n",
       "      <td>0.404035</td>\n",
       "    </tr>\n",
       "  </tbody>\n",
       "</table>\n",
       "</div>"
      ],
      "text/plain": [
       "   Precision    Recall  Accuracy      Dice       IoU\n",
       "0   0.362231  0.544427  0.069117  0.435023  0.277974\n",
       "1   0.588570  0.871537  0.171177  0.702634  0.541585\n",
       "2   0.424143  0.913440  0.187600  0.579297  0.407754\n",
       "3   0.706594  0.815585  0.223613  0.757187  0.609253\n",
       "4   0.405350  0.992033  0.285375  0.575534  0.404035"
      ]
     },
     "execution_count": 16,
     "metadata": {},
     "output_type": "execute_result"
    }
   ],
   "source": [
    "df_metrics_oxfrfg.head()"
   ]
  },
  {
   "cell_type": "code",
   "execution_count": 17,
   "metadata": {},
   "outputs": [
    {
     "data": {
      "text/plain": [
       "Precision    0.478127\n",
       "Recall       0.897531\n",
       "Accuracy     0.202864\n",
       "Dice         0.604420\n",
       "IoU          0.446204\n",
       "dtype: float64"
      ]
     },
     "execution_count": 17,
     "metadata": {},
     "output_type": "execute_result"
    }
   ],
   "source": [
    "df_metrics_oxfrfg.mean(axis=0)"
   ]
  },
  {
   "cell_type": "code",
   "execution_count": null,
   "metadata": {},
   "outputs": [],
   "source": [
    "df_metrics_oxfrfg.to_csv(\"D:\\Study\\Conda Projects\\CCAM\\CUSTOM\\experiments\\scores\\oxford_rn_fullgrad.csv\")"
   ]
  },
  {
   "cell_type": "markdown",
   "metadata": {},
   "source": [
    "#### Exp-8: Polyp Resnet50(Pretrained) CCAM"
   ]
  },
  {
   "cell_type": "code",
   "execution_count": 1,
   "metadata": {},
   "outputs": [],
   "source": [
    "data_path_gt_pkrpcc = \"D:\\\\Study\\\\Conda Projects\\\\Polyp Detection\\\\Kvasir-SEG\\\\Ground Truth\"\n",
    "data_path_pred_pkrpcc = \"D:\\\\Study\\\\Conda Projects\\\\CCAM\\\\CUSTOM\\\\experiments\\\\images\\\\POLYP_RN_PRE\\\\train\\\\colormaps\""
   ]
  },
  {
   "cell_type": "code",
   "execution_count": 10,
   "metadata": {},
   "outputs": [],
   "source": [
    "df_metrics_polyprpcc = metrics_table(data_path_gt_pkrpcc, data_path_pred_pkrpcc, list_files_in_directory(data_path_gt_pkrpcc))"
   ]
  },
  {
   "cell_type": "code",
   "execution_count": 11,
   "metadata": {},
   "outputs": [
    {
     "data": {
      "text/html": [
       "<div>\n",
       "<style scoped>\n",
       "    .dataframe tbody tr th:only-of-type {\n",
       "        vertical-align: middle;\n",
       "    }\n",
       "\n",
       "    .dataframe tbody tr th {\n",
       "        vertical-align: top;\n",
       "    }\n",
       "\n",
       "    .dataframe thead th {\n",
       "        text-align: right;\n",
       "    }\n",
       "</style>\n",
       "<table border=\"1\" class=\"dataframe\">\n",
       "  <thead>\n",
       "    <tr style=\"text-align: right;\">\n",
       "      <th></th>\n",
       "      <th>Precision</th>\n",
       "      <th>Recall</th>\n",
       "      <th>Accuracy</th>\n",
       "      <th>Dice</th>\n",
       "      <th>IoU</th>\n",
       "    </tr>\n",
       "  </thead>\n",
       "  <tbody>\n",
       "    <tr>\n",
       "      <th>0</th>\n",
       "      <td>0.575361</td>\n",
       "      <td>0.263940</td>\n",
       "      <td>0.167451</td>\n",
       "      <td>0.361874</td>\n",
       "      <td>0.220908</td>\n",
       "    </tr>\n",
       "    <tr>\n",
       "      <th>1</th>\n",
       "      <td>1.000000</td>\n",
       "      <td>0.384645</td>\n",
       "      <td>0.274494</td>\n",
       "      <td>0.555587</td>\n",
       "      <td>0.384645</td>\n",
       "    </tr>\n",
       "    <tr>\n",
       "      <th>2</th>\n",
       "      <td>0.208014</td>\n",
       "      <td>0.241285</td>\n",
       "      <td>0.068698</td>\n",
       "      <td>0.223418</td>\n",
       "      <td>0.125757</td>\n",
       "    </tr>\n",
       "    <tr>\n",
       "      <th>3</th>\n",
       "      <td>0.402369</td>\n",
       "      <td>0.151138</td>\n",
       "      <td>0.046038</td>\n",
       "      <td>0.219738</td>\n",
       "      <td>0.123430</td>\n",
       "    </tr>\n",
       "    <tr>\n",
       "      <th>4</th>\n",
       "      <td>0.957685</td>\n",
       "      <td>0.135715</td>\n",
       "      <td>0.074876</td>\n",
       "      <td>0.237740</td>\n",
       "      <td>0.134906</td>\n",
       "    </tr>\n",
       "  </tbody>\n",
       "</table>\n",
       "</div>"
      ],
      "text/plain": [
       "   Precision    Recall  Accuracy      Dice       IoU\n",
       "0   0.575361  0.263940  0.167451  0.361874  0.220908\n",
       "1   1.000000  0.384645  0.274494  0.555587  0.384645\n",
       "2   0.208014  0.241285  0.068698  0.223418  0.125757\n",
       "3   0.402369  0.151138  0.046038  0.219738  0.123430\n",
       "4   0.957685  0.135715  0.074876  0.237740  0.134906"
      ]
     },
     "execution_count": 11,
     "metadata": {},
     "output_type": "execute_result"
    }
   ],
   "source": [
    "df_metrics_polyprpcc.head()"
   ]
  },
  {
   "cell_type": "code",
   "execution_count": 12,
   "metadata": {},
   "outputs": [
    {
     "data": {
      "text/plain": [
       "Precision    0.550077\n",
       "Recall       0.169947\n",
       "Accuracy     0.091524\n",
       "Dice         0.230219\n",
       "IoU          0.144681\n",
       "dtype: float64"
      ]
     },
     "execution_count": 12,
     "metadata": {},
     "output_type": "execute_result"
    }
   ],
   "source": [
    "df_metrics_polyprpcc.mean(axis=0)"
   ]
  },
  {
   "cell_type": "markdown",
   "metadata": {},
   "source": [
    "#### Exp-9: Polyp Resnet50 HiResCAM"
   ]
  },
  {
   "cell_type": "code",
   "execution_count": 11,
   "metadata": {},
   "outputs": [],
   "source": [
    "data_path_gt_pkrhi = \"D:\\\\Study\\\\Conda Projects\\\\Polyp Detection\\\\Kvasir-SEG\\\\Ground Truth\"\n",
    "data_path_pred_pkrhi = \"D:\\\\Study\\\\Conda Projects\\\\opdl\\\\Data\\\\polyp\\\\resnet50_kvasir_hirescam\""
   ]
  },
  {
   "cell_type": "code",
   "execution_count": 12,
   "metadata": {},
   "outputs": [
    {
     "name": "stderr",
     "output_type": "stream",
     "text": [
      "C:\\Users\\anish\\AppData\\Local\\Temp\\ipykernel_12592\\3977446589.py:27: RuntimeWarning: invalid value encountered in scalar divide\n",
      "  recall = np.sum(intersection) / np.sum(mask2_bool)\n"
     ]
    }
   ],
   "source": [
    "df_metrics_pkrhi = metrics_table(data_path_gt_pkrhi, data_path_pred_pkrhi, list_files_in_directory(data_path_gt_pkrhi))"
   ]
  },
  {
   "cell_type": "code",
   "execution_count": 13,
   "metadata": {},
   "outputs": [
    {
     "data": {
      "text/html": [
       "<div>\n",
       "<style scoped>\n",
       "    .dataframe tbody tr th:only-of-type {\n",
       "        vertical-align: middle;\n",
       "    }\n",
       "\n",
       "    .dataframe tbody tr th {\n",
       "        vertical-align: top;\n",
       "    }\n",
       "\n",
       "    .dataframe thead th {\n",
       "        text-align: right;\n",
       "    }\n",
       "</style>\n",
       "<table border=\"1\" class=\"dataframe\">\n",
       "  <thead>\n",
       "    <tr style=\"text-align: right;\">\n",
       "      <th></th>\n",
       "      <th>Precision</th>\n",
       "      <th>Recall</th>\n",
       "      <th>Accuracy</th>\n",
       "      <th>Dice</th>\n",
       "      <th>IoU</th>\n",
       "    </tr>\n",
       "  </thead>\n",
       "  <tbody>\n",
       "    <tr>\n",
       "      <th>0</th>\n",
       "      <td>0.000000</td>\n",
       "      <td>0.000000</td>\n",
       "      <td>0.000000</td>\n",
       "      <td>0.000000</td>\n",
       "      <td>0.000000</td>\n",
       "    </tr>\n",
       "    <tr>\n",
       "      <th>1</th>\n",
       "      <td>0.000000</td>\n",
       "      <td>0.000000</td>\n",
       "      <td>0.000000</td>\n",
       "      <td>0.000000</td>\n",
       "      <td>0.000000</td>\n",
       "    </tr>\n",
       "    <tr>\n",
       "      <th>2</th>\n",
       "      <td>0.009897</td>\n",
       "      <td>0.082536</td>\n",
       "      <td>0.003268</td>\n",
       "      <td>0.017674</td>\n",
       "      <td>0.008916</td>\n",
       "    </tr>\n",
       "    <tr>\n",
       "      <th>3</th>\n",
       "      <td>0.712419</td>\n",
       "      <td>0.263735</td>\n",
       "      <td>0.081513</td>\n",
       "      <td>0.384959</td>\n",
       "      <td>0.238359</td>\n",
       "    </tr>\n",
       "    <tr>\n",
       "      <th>4</th>\n",
       "      <td>0.000000</td>\n",
       "      <td>0.000000</td>\n",
       "      <td>0.000000</td>\n",
       "      <td>0.000000</td>\n",
       "      <td>0.000000</td>\n",
       "    </tr>\n",
       "  </tbody>\n",
       "</table>\n",
       "</div>"
      ],
      "text/plain": [
       "   Precision    Recall  Accuracy      Dice       IoU\n",
       "0   0.000000  0.000000  0.000000  0.000000  0.000000\n",
       "1   0.000000  0.000000  0.000000  0.000000  0.000000\n",
       "2   0.009897  0.082536  0.003268  0.017674  0.008916\n",
       "3   0.712419  0.263735  0.081513  0.384959  0.238359\n",
       "4   0.000000  0.000000  0.000000  0.000000  0.000000"
      ]
     },
     "execution_count": 13,
     "metadata": {},
     "output_type": "execute_result"
    }
   ],
   "source": [
    "df_metrics_pkrhi.head()"
   ]
  },
  {
   "cell_type": "code",
   "execution_count": 14,
   "metadata": {},
   "outputs": [
    {
     "data": {
      "text/plain": [
       "Precision    0.027568\n",
       "Recall       0.050976\n",
       "Accuracy     0.003595\n",
       "Dice         0.025120\n",
       "IoU          0.014639\n",
       "dtype: float64"
      ]
     },
     "execution_count": 14,
     "metadata": {},
     "output_type": "execute_result"
    }
   ],
   "source": [
    "df_metrics_pkrhi.mean(axis=0)"
   ]
  },
  {
   "cell_type": "markdown",
   "metadata": {},
   "source": [
    "#### Exp-10 Polyp Resnet50 FullGrad"
   ]
  },
  {
   "cell_type": "code",
   "execution_count": 15,
   "metadata": {},
   "outputs": [],
   "source": [
    "data_path_gt_pkrfg = \"D:\\\\Study\\\\Conda Projects\\\\Polyp Detection\\\\Kvasir-SEG\\\\Ground Truth\"\n",
    "data_path_pred_pkrfg = \"D:\\\\Study\\\\Conda Projects\\\\opdl\\\\Data\\\\polyp\\\\resnet50_kvasir_fullgrad\""
   ]
  },
  {
   "cell_type": "code",
   "execution_count": 16,
   "metadata": {},
   "outputs": [],
   "source": [
    "df_metrics_pkrfg = metrics_table(data_path_gt_pkrfg, data_path_pred_pkrfg, list_files_in_directory(data_path_gt_pkrfg))"
   ]
  },
  {
   "cell_type": "code",
   "execution_count": 17,
   "metadata": {},
   "outputs": [
    {
     "data": {
      "text/html": [
       "<div>\n",
       "<style scoped>\n",
       "    .dataframe tbody tr th:only-of-type {\n",
       "        vertical-align: middle;\n",
       "    }\n",
       "\n",
       "    .dataframe tbody tr th {\n",
       "        vertical-align: top;\n",
       "    }\n",
       "\n",
       "    .dataframe thead th {\n",
       "        text-align: right;\n",
       "    }\n",
       "</style>\n",
       "<table border=\"1\" class=\"dataframe\">\n",
       "  <thead>\n",
       "    <tr style=\"text-align: right;\">\n",
       "      <th></th>\n",
       "      <th>Precision</th>\n",
       "      <th>Recall</th>\n",
       "      <th>Accuracy</th>\n",
       "      <th>Dice</th>\n",
       "      <th>IoU</th>\n",
       "    </tr>\n",
       "  </thead>\n",
       "  <tbody>\n",
       "    <tr>\n",
       "      <th>0</th>\n",
       "      <td>0.053208</td>\n",
       "      <td>0.107054</td>\n",
       "      <td>0.015485</td>\n",
       "      <td>0.071085</td>\n",
       "      <td>0.036853</td>\n",
       "    </tr>\n",
       "    <tr>\n",
       "      <th>1</th>\n",
       "      <td>0.129819</td>\n",
       "      <td>0.098812</td>\n",
       "      <td>0.035635</td>\n",
       "      <td>0.112213</td>\n",
       "      <td>0.059441</td>\n",
       "    </tr>\n",
       "    <tr>\n",
       "      <th>2</th>\n",
       "      <td>0.000121</td>\n",
       "      <td>0.000353</td>\n",
       "      <td>0.000040</td>\n",
       "      <td>0.000180</td>\n",
       "      <td>0.000090</td>\n",
       "    </tr>\n",
       "    <tr>\n",
       "      <th>3</th>\n",
       "      <td>0.110608</td>\n",
       "      <td>0.070926</td>\n",
       "      <td>0.012655</td>\n",
       "      <td>0.086430</td>\n",
       "      <td>0.045167</td>\n",
       "    </tr>\n",
       "    <tr>\n",
       "      <th>4</th>\n",
       "      <td>0.000000</td>\n",
       "      <td>0.000000</td>\n",
       "      <td>0.000000</td>\n",
       "      <td>0.000000</td>\n",
       "      <td>0.000000</td>\n",
       "    </tr>\n",
       "  </tbody>\n",
       "</table>\n",
       "</div>"
      ],
      "text/plain": [
       "   Precision    Recall  Accuracy      Dice       IoU\n",
       "0   0.053208  0.107054  0.015485  0.071085  0.036853\n",
       "1   0.129819  0.098812  0.035635  0.112213  0.059441\n",
       "2   0.000121  0.000353  0.000040  0.000180  0.000090\n",
       "3   0.110608  0.070926  0.012655  0.086430  0.045167\n",
       "4   0.000000  0.000000  0.000000  0.000000  0.000000"
      ]
     },
     "execution_count": 17,
     "metadata": {},
     "output_type": "execute_result"
    }
   ],
   "source": [
    "df_metrics_pkrfg.head()"
   ]
  },
  {
   "cell_type": "code",
   "execution_count": 18,
   "metadata": {},
   "outputs": [
    {
     "data": {
      "text/plain": [
       "Precision    0.102076\n",
       "Recall       0.083322\n",
       "Accuracy     0.016600\n",
       "Dice         0.073508\n",
       "IoU          0.043666\n",
       "dtype: float64"
      ]
     },
     "execution_count": 18,
     "metadata": {},
     "output_type": "execute_result"
    }
   ],
   "source": [
    "df_metrics_pkrfg.mean(axis=0)"
   ]
  },
  {
   "cell_type": "markdown",
   "metadata": {},
   "source": [
    "#### Exp: Flip Polyp images Pretrained"
   ]
  },
  {
   "cell_type": "code",
   "execution_count": 9,
   "metadata": {},
   "outputs": [],
   "source": [
    "data_path_gt_pkrpcc_flip = \"D:\\\\Study\\\\Conda Projects\\\\Polyp Detection\\\\Kvasir-SEG\\\\Ground Truth\"\n",
    "data_path_pred_pkrpcc_flip = \"D:\\\\Study\\\\Conda Projects\\\\CCAM\\\\CUSTOM\\\\experiments\\\\images\\\\POLYP_RN_PRE\\\\train\\\\colormaps\""
   ]
  },
  {
   "cell_type": "code",
   "execution_count": 10,
   "metadata": {},
   "outputs": [],
   "source": [
    "df_metrics_polyprpcc_flip = metrics_table_flip(data_path_gt_pkrpcc_flip, data_path_pred_pkrpcc_flip, list_files_in_directory(data_path_gt_pkrpcc_flip))"
   ]
  },
  {
   "cell_type": "code",
   "execution_count": 11,
   "metadata": {},
   "outputs": [
    {
     "data": {
      "text/html": [
       "<div>\n",
       "<style scoped>\n",
       "    .dataframe tbody tr th:only-of-type {\n",
       "        vertical-align: middle;\n",
       "    }\n",
       "\n",
       "    .dataframe tbody tr th {\n",
       "        vertical-align: top;\n",
       "    }\n",
       "\n",
       "    .dataframe thead th {\n",
       "        text-align: right;\n",
       "    }\n",
       "</style>\n",
       "<table border=\"1\" class=\"dataframe\">\n",
       "  <thead>\n",
       "    <tr style=\"text-align: right;\">\n",
       "      <th></th>\n",
       "      <th>Precision</th>\n",
       "      <th>Recall</th>\n",
       "      <th>Accuracy</th>\n",
       "      <th>Dice</th>\n",
       "      <th>IoU</th>\n",
       "    </tr>\n",
       "  </thead>\n",
       "  <tbody>\n",
       "    <tr>\n",
       "      <th>0</th>\n",
       "      <td>0.845785</td>\n",
       "      <td>0.387994</td>\n",
       "      <td>0.246154</td>\n",
       "      <td>0.531958</td>\n",
       "      <td>0.362359</td>\n",
       "    </tr>\n",
       "    <tr>\n",
       "      <th>1</th>\n",
       "      <td>0.868438</td>\n",
       "      <td>0.334041</td>\n",
       "      <td>0.238381</td>\n",
       "      <td>0.482493</td>\n",
       "      <td>0.317951</td>\n",
       "    </tr>\n",
       "    <tr>\n",
       "      <th>2</th>\n",
       "      <td>0.314525</td>\n",
       "      <td>0.364833</td>\n",
       "      <td>0.103874</td>\n",
       "      <td>0.337816</td>\n",
       "      <td>0.203236</td>\n",
       "    </tr>\n",
       "    <tr>\n",
       "      <th>3</th>\n",
       "      <td>0.427974</td>\n",
       "      <td>0.160756</td>\n",
       "      <td>0.048968</td>\n",
       "      <td>0.233722</td>\n",
       "      <td>0.132324</td>\n",
       "    </tr>\n",
       "    <tr>\n",
       "      <th>4</th>\n",
       "      <td>0.208769</td>\n",
       "      <td>0.029585</td>\n",
       "      <td>0.016323</td>\n",
       "      <td>0.051826</td>\n",
       "      <td>0.026602</td>\n",
       "    </tr>\n",
       "  </tbody>\n",
       "</table>\n",
       "</div>"
      ],
      "text/plain": [
       "   Precision    Recall  Accuracy      Dice       IoU\n",
       "0   0.845785  0.387994  0.246154  0.531958  0.362359\n",
       "1   0.868438  0.334041  0.238381  0.482493  0.317951\n",
       "2   0.314525  0.364833  0.103874  0.337816  0.203236\n",
       "3   0.427974  0.160756  0.048968  0.233722  0.132324\n",
       "4   0.208769  0.029585  0.016323  0.051826  0.026602"
      ]
     },
     "execution_count": 11,
     "metadata": {},
     "output_type": "execute_result"
    }
   ],
   "source": [
    "df_metrics_polyprpcc_flip.head()"
   ]
  },
  {
   "cell_type": "code",
   "execution_count": 12,
   "metadata": {},
   "outputs": [
    {
     "data": {
      "text/plain": [
       "Precision    0.559349\n",
       "Recall       0.169840\n",
       "Accuracy     0.090668\n",
       "Dice         0.230504\n",
       "IoU          0.144164\n",
       "dtype: float64"
      ]
     },
     "execution_count": 12,
     "metadata": {},
     "output_type": "execute_result"
    }
   ],
   "source": [
    "df_metrics_polyprpcc_flip.mean(axis=0)"
   ]
  },
  {
   "cell_type": "markdown",
   "metadata": {},
   "source": [
    "#### Exp: Flip CCAM "
   ]
  },
  {
   "cell_type": "code",
   "execution_count": 13,
   "metadata": {},
   "outputs": [],
   "source": [
    "data_path_gt_pri_flip = \"D:\\\\Study\\\\Conda Projects\\\\Polyp Detection\\\\Kvasir-SEG\\\\Ground Truth\"\n",
    "data_path_pred_pri_flip = \"D:\\\\Study\\\\Conda Projects\\\\CCAM\\\\CUSTOM\\\\experiments\\\\images\\\\POLYP_RN_IN\\\\train\\\\colormaps\""
   ]
  },
  {
   "cell_type": "code",
   "execution_count": 14,
   "metadata": {},
   "outputs": [],
   "source": [
    "df_metrics_pri_flip = metrics_table_flip(data_path_gt_pri_flip, data_path_pred_pri_flip, list_files_in_directory(data_path_gt_pri_flip))"
   ]
  },
  {
   "cell_type": "code",
   "execution_count": 15,
   "metadata": {},
   "outputs": [
    {
     "data": {
      "text/html": [
       "<div>\n",
       "<style scoped>\n",
       "    .dataframe tbody tr th:only-of-type {\n",
       "        vertical-align: middle;\n",
       "    }\n",
       "\n",
       "    .dataframe tbody tr th {\n",
       "        vertical-align: top;\n",
       "    }\n",
       "\n",
       "    .dataframe thead th {\n",
       "        text-align: right;\n",
       "    }\n",
       "</style>\n",
       "<table border=\"1\" class=\"dataframe\">\n",
       "  <thead>\n",
       "    <tr style=\"text-align: right;\">\n",
       "      <th></th>\n",
       "      <th>Precision</th>\n",
       "      <th>Recall</th>\n",
       "      <th>Accuracy</th>\n",
       "      <th>Dice</th>\n",
       "      <th>IoU</th>\n",
       "    </tr>\n",
       "  </thead>\n",
       "  <tbody>\n",
       "    <tr>\n",
       "      <th>0</th>\n",
       "      <td>0.060056</td>\n",
       "      <td>0.057892</td>\n",
       "      <td>0.017478</td>\n",
       "      <td>0.058954</td>\n",
       "      <td>0.030372</td>\n",
       "    </tr>\n",
       "    <tr>\n",
       "      <th>1</th>\n",
       "      <td>0.135845</td>\n",
       "      <td>0.083204</td>\n",
       "      <td>0.037289</td>\n",
       "      <td>0.103199</td>\n",
       "      <td>0.054407</td>\n",
       "    </tr>\n",
       "    <tr>\n",
       "      <th>2</th>\n",
       "      <td>0.037716</td>\n",
       "      <td>0.038890</td>\n",
       "      <td>0.012456</td>\n",
       "      <td>0.038294</td>\n",
       "      <td>0.019521</td>\n",
       "    </tr>\n",
       "    <tr>\n",
       "      <th>3</th>\n",
       "      <td>0.873367</td>\n",
       "      <td>0.241569</td>\n",
       "      <td>0.099928</td>\n",
       "      <td>0.378458</td>\n",
       "      <td>0.233394</td>\n",
       "    </tr>\n",
       "    <tr>\n",
       "      <th>4</th>\n",
       "      <td>0.180474</td>\n",
       "      <td>0.028995</td>\n",
       "      <td>0.014110</td>\n",
       "      <td>0.049963</td>\n",
       "      <td>0.025622</td>\n",
       "    </tr>\n",
       "  </tbody>\n",
       "</table>\n",
       "</div>"
      ],
      "text/plain": [
       "   Precision    Recall  Accuracy      Dice       IoU\n",
       "0   0.060056  0.057892  0.017478  0.058954  0.030372\n",
       "1   0.135845  0.083204  0.037289  0.103199  0.054407\n",
       "2   0.037716  0.038890  0.012456  0.038294  0.019521\n",
       "3   0.873367  0.241569  0.099928  0.378458  0.233394\n",
       "4   0.180474  0.028995  0.014110  0.049963  0.025622"
      ]
     },
     "execution_count": 15,
     "metadata": {},
     "output_type": "execute_result"
    }
   ],
   "source": [
    "df_metrics_pri_flip.head()"
   ]
  },
  {
   "cell_type": "code",
   "execution_count": 16,
   "metadata": {},
   "outputs": [
    {
     "data": {
      "text/plain": [
       "Precision    0.125300\n",
       "Recall       0.053624\n",
       "Accuracy     0.023738\n",
       "Dice         0.065480\n",
       "IoU          0.037170\n",
       "dtype: float64"
      ]
     },
     "execution_count": 16,
     "metadata": {},
     "output_type": "execute_result"
    }
   ],
   "source": [
    "df_metrics_pri_flip.mean(axis=0)"
   ]
  },
  {
   "cell_type": "markdown",
   "metadata": {},
   "source": [
    "#### Exp Oxford Flip Resnet Pretrained CCAM"
   ]
  },
  {
   "cell_type": "code",
   "execution_count": 17,
   "metadata": {},
   "outputs": [],
   "source": [
    "data_path_gt_oxfrpcc_flip = \"D:\\\\Study\\\\Conda Projects\\\\opdl\\\\Data\\\\masks\"\n",
    "data_path_pred_oxfrpcc_flip = \"D:\\\\Study\\\\Conda Projects\\\\CCAM\\\\CUSTOM\\\\experiments\\\\images\\\\OXFORD_RN_PRE\\\\train\\\\colormaps\""
   ]
  },
  {
   "cell_type": "code",
   "execution_count": 18,
   "metadata": {},
   "outputs": [
    {
     "name": "stderr",
     "output_type": "stream",
     "text": [
      "C:\\Users\\anish\\AppData\\Local\\Temp\\ipykernel_16024\\3977446589.py:24: RuntimeWarning: invalid value encountered in scalar divide\n",
      "  precision = np.sum(intersection) / np.sum(mask1_bool)\n"
     ]
    }
   ],
   "source": [
    "df_metrics_oxfrpcc_flip = metrics_table_flip(data_path_gt_oxfrpcc_flip, data_path_pred_oxfrpcc_flip, list_files_in_directory(data_path_gt_oxfrpcc_flip))"
   ]
  },
  {
   "cell_type": "code",
   "execution_count": 19,
   "metadata": {},
   "outputs": [
    {
     "data": {
      "text/html": [
       "<div>\n",
       "<style scoped>\n",
       "    .dataframe tbody tr th:only-of-type {\n",
       "        vertical-align: middle;\n",
       "    }\n",
       "\n",
       "    .dataframe tbody tr th {\n",
       "        vertical-align: top;\n",
       "    }\n",
       "\n",
       "    .dataframe thead th {\n",
       "        text-align: right;\n",
       "    }\n",
       "</style>\n",
       "<table border=\"1\" class=\"dataframe\">\n",
       "  <thead>\n",
       "    <tr style=\"text-align: right;\">\n",
       "      <th></th>\n",
       "      <th>Precision</th>\n",
       "      <th>Recall</th>\n",
       "      <th>Accuracy</th>\n",
       "      <th>Dice</th>\n",
       "      <th>IoU</th>\n",
       "    </tr>\n",
       "  </thead>\n",
       "  <tbody>\n",
       "    <tr>\n",
       "      <th>0</th>\n",
       "      <td>0.529664</td>\n",
       "      <td>0.523593</td>\n",
       "      <td>0.101064</td>\n",
       "      <td>0.526611</td>\n",
       "      <td>0.357415</td>\n",
       "    </tr>\n",
       "    <tr>\n",
       "      <th>1</th>\n",
       "      <td>0.571027</td>\n",
       "      <td>0.757890</td>\n",
       "      <td>0.166075</td>\n",
       "      <td>0.651321</td>\n",
       "      <td>0.482932</td>\n",
       "    </tr>\n",
       "    <tr>\n",
       "      <th>2</th>\n",
       "      <td>0.344523</td>\n",
       "      <td>0.727083</td>\n",
       "      <td>0.152384</td>\n",
       "      <td>0.467517</td>\n",
       "      <td>0.305071</td>\n",
       "    </tr>\n",
       "    <tr>\n",
       "      <th>3</th>\n",
       "      <td>0.617419</td>\n",
       "      <td>0.683873</td>\n",
       "      <td>0.195392</td>\n",
       "      <td>0.648949</td>\n",
       "      <td>0.480329</td>\n",
       "    </tr>\n",
       "    <tr>\n",
       "      <th>4</th>\n",
       "      <td>0.412144</td>\n",
       "      <td>0.954063</td>\n",
       "      <td>0.290159</td>\n",
       "      <td>0.575625</td>\n",
       "      <td>0.404125</td>\n",
       "    </tr>\n",
       "  </tbody>\n",
       "</table>\n",
       "</div>"
      ],
      "text/plain": [
       "   Precision    Recall  Accuracy      Dice       IoU\n",
       "0   0.529664  0.523593  0.101064  0.526611  0.357415\n",
       "1   0.571027  0.757890  0.166075  0.651321  0.482932\n",
       "2   0.344523  0.727083  0.152384  0.467517  0.305071\n",
       "3   0.617419  0.683873  0.195392  0.648949  0.480329\n",
       "4   0.412144  0.954063  0.290159  0.575625  0.404125"
      ]
     },
     "execution_count": 19,
     "metadata": {},
     "output_type": "execute_result"
    }
   ],
   "source": [
    "df_metrics_oxfrpcc_flip.head()"
   ]
  },
  {
   "cell_type": "code",
   "execution_count": 20,
   "metadata": {},
   "outputs": [
    {
     "data": {
      "text/plain": [
       "Precision    0.462447\n",
       "Recall       0.763942\n",
       "Accuracy     0.194326\n",
       "Dice         0.556010\n",
       "IoU          0.398989\n",
       "dtype: float64"
      ]
     },
     "execution_count": 20,
     "metadata": {},
     "output_type": "execute_result"
    }
   ],
   "source": [
    "df_metrics_oxfrpcc_flip.mean(axis=0)"
   ]
  }
 ],
 "metadata": {
  "kernelspec": {
   "display_name": "Python 3",
   "language": "python",
   "name": "python3"
  },
  "language_info": {
   "codemirror_mode": {
    "name": "ipython",
    "version": 3
   },
   "file_extension": ".py",
   "mimetype": "text/x-python",
   "name": "python",
   "nbconvert_exporter": "python",
   "pygments_lexer": "ipython3",
   "version": "3.11.8"
  }
 },
 "nbformat": 4,
 "nbformat_minor": 2
}
